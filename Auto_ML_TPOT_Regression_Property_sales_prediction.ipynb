{
  "nbformat": 4,
  "nbformat_minor": 0,
  "metadata": {
    "colab": {
      "name": "Auto ML -TPOT Regression - Property sales prediction",
      "provenance": [],
      "collapsed_sections": [],
      "toc_visible": true,
      "include_colab_link": true
    },
    "kernelspec": {
      "name": "python3",
      "display_name": "Python 3"
    },
    "accelerator": "GPU",
    "widgets": {
      "application/vnd.jupyter.widget-state+json": {
        "96e8f319cafa4f09ab77674a815182cd": {
          "model_module": "@jupyter-widgets/controls",
          "model_name": "HBoxModel",
          "state": {
            "_view_name": "HBoxView",
            "_dom_classes": [],
            "_model_name": "HBoxModel",
            "_view_module": "@jupyter-widgets/controls",
            "_model_module_version": "1.5.0",
            "_view_count": null,
            "_view_module_version": "1.5.0",
            "box_style": "",
            "layout": "IPY_MODEL_b8f36a2e079844f7898e30a98d577aa6",
            "_model_module": "@jupyter-widgets/controls",
            "children": [
              "IPY_MODEL_d3a3ee9e8505436898c052e71c89d447",
              "IPY_MODEL_4ffe66a1b88b4d8ea0d1c260a566831d"
            ]
          }
        },
        "b8f36a2e079844f7898e30a98d577aa6": {
          "model_module": "@jupyter-widgets/base",
          "model_name": "LayoutModel",
          "state": {
            "_view_name": "LayoutView",
            "grid_template_rows": null,
            "right": null,
            "justify_content": null,
            "_view_module": "@jupyter-widgets/base",
            "overflow": null,
            "_model_module_version": "1.2.0",
            "_view_count": null,
            "flex_flow": null,
            "width": null,
            "min_width": null,
            "border": null,
            "align_items": null,
            "bottom": null,
            "_model_module": "@jupyter-widgets/base",
            "top": null,
            "grid_column": null,
            "overflow_y": null,
            "overflow_x": null,
            "grid_auto_flow": null,
            "grid_area": null,
            "grid_template_columns": null,
            "flex": null,
            "_model_name": "LayoutModel",
            "justify_items": null,
            "grid_row": null,
            "max_height": null,
            "align_content": null,
            "visibility": null,
            "align_self": null,
            "height": null,
            "min_height": null,
            "padding": null,
            "grid_auto_rows": null,
            "grid_gap": null,
            "max_width": null,
            "order": null,
            "_view_module_version": "1.2.0",
            "grid_template_areas": null,
            "object_position": null,
            "object_fit": null,
            "grid_auto_columns": null,
            "margin": null,
            "display": null,
            "left": null
          }
        },
        "d3a3ee9e8505436898c052e71c89d447": {
          "model_module": "@jupyter-widgets/controls",
          "model_name": "FloatProgressModel",
          "state": {
            "_view_name": "ProgressView",
            "style": "IPY_MODEL_b28721e3456148df90ebd4efffc93a50",
            "_dom_classes": [],
            "description": "Optimization Progress:  53%",
            "_model_name": "FloatProgressModel",
            "bar_style": "danger",
            "max": 100,
            "_view_module": "@jupyter-widgets/controls",
            "_model_module_version": "1.5.0",
            "value": 100,
            "_view_count": null,
            "_view_module_version": "1.5.0",
            "orientation": "horizontal",
            "min": 0,
            "description_tooltip": null,
            "_model_module": "@jupyter-widgets/controls",
            "layout": "IPY_MODEL_b8a865c5c52b4e3399768848adf7e954"
          }
        },
        "4ffe66a1b88b4d8ea0d1c260a566831d": {
          "model_module": "@jupyter-widgets/controls",
          "model_name": "HTMLModel",
          "state": {
            "_view_name": "HTMLView",
            "style": "IPY_MODEL_7be0b03f8654499fae34c751960b0955",
            "_dom_classes": [],
            "description": "",
            "_model_name": "HTMLModel",
            "placeholder": "​",
            "_view_module": "@jupyter-widgets/controls",
            "_model_module_version": "1.5.0",
            "value": " 106/200 [10:15&lt;14:34,  9.30s/pipeline]",
            "_view_count": null,
            "_view_module_version": "1.5.0",
            "description_tooltip": null,
            "_model_module": "@jupyter-widgets/controls",
            "layout": "IPY_MODEL_06122feb110a4cb88143e98d32ec4224"
          }
        },
        "b28721e3456148df90ebd4efffc93a50": {
          "model_module": "@jupyter-widgets/controls",
          "model_name": "ProgressStyleModel",
          "state": {
            "_view_name": "StyleView",
            "_model_name": "ProgressStyleModel",
            "description_width": "initial",
            "_view_module": "@jupyter-widgets/base",
            "_model_module_version": "1.5.0",
            "_view_count": null,
            "_view_module_version": "1.2.0",
            "bar_color": null,
            "_model_module": "@jupyter-widgets/controls"
          }
        },
        "b8a865c5c52b4e3399768848adf7e954": {
          "model_module": "@jupyter-widgets/base",
          "model_name": "LayoutModel",
          "state": {
            "_view_name": "LayoutView",
            "grid_template_rows": null,
            "right": null,
            "justify_content": null,
            "_view_module": "@jupyter-widgets/base",
            "overflow": null,
            "_model_module_version": "1.2.0",
            "_view_count": null,
            "flex_flow": null,
            "width": null,
            "min_width": null,
            "border": null,
            "align_items": null,
            "bottom": null,
            "_model_module": "@jupyter-widgets/base",
            "top": null,
            "grid_column": null,
            "overflow_y": null,
            "overflow_x": null,
            "grid_auto_flow": null,
            "grid_area": null,
            "grid_template_columns": null,
            "flex": null,
            "_model_name": "LayoutModel",
            "justify_items": null,
            "grid_row": null,
            "max_height": null,
            "align_content": null,
            "visibility": null,
            "align_self": null,
            "height": null,
            "min_height": null,
            "padding": null,
            "grid_auto_rows": null,
            "grid_gap": null,
            "max_width": null,
            "order": null,
            "_view_module_version": "1.2.0",
            "grid_template_areas": null,
            "object_position": null,
            "object_fit": null,
            "grid_auto_columns": null,
            "margin": null,
            "display": null,
            "left": null
          }
        },
        "7be0b03f8654499fae34c751960b0955": {
          "model_module": "@jupyter-widgets/controls",
          "model_name": "DescriptionStyleModel",
          "state": {
            "_view_name": "StyleView",
            "_model_name": "DescriptionStyleModel",
            "description_width": "",
            "_view_module": "@jupyter-widgets/base",
            "_model_module_version": "1.5.0",
            "_view_count": null,
            "_view_module_version": "1.2.0",
            "_model_module": "@jupyter-widgets/controls"
          }
        },
        "06122feb110a4cb88143e98d32ec4224": {
          "model_module": "@jupyter-widgets/base",
          "model_name": "LayoutModel",
          "state": {
            "_view_name": "LayoutView",
            "grid_template_rows": null,
            "right": null,
            "justify_content": null,
            "_view_module": "@jupyter-widgets/base",
            "overflow": null,
            "_model_module_version": "1.2.0",
            "_view_count": null,
            "flex_flow": null,
            "width": null,
            "min_width": null,
            "border": null,
            "align_items": null,
            "bottom": null,
            "_model_module": "@jupyter-widgets/base",
            "top": null,
            "grid_column": null,
            "overflow_y": null,
            "overflow_x": null,
            "grid_auto_flow": null,
            "grid_area": null,
            "grid_template_columns": null,
            "flex": null,
            "_model_name": "LayoutModel",
            "justify_items": null,
            "grid_row": null,
            "max_height": null,
            "align_content": null,
            "visibility": null,
            "align_self": null,
            "height": null,
            "min_height": null,
            "padding": null,
            "grid_auto_rows": null,
            "grid_gap": null,
            "max_width": null,
            "order": null,
            "_view_module_version": "1.2.0",
            "grid_template_areas": null,
            "object_position": null,
            "object_fit": null,
            "grid_auto_columns": null,
            "margin": null,
            "display": null,
            "left": null
          }
        }
      }
    }
  },
  "cells": [
    {
      "cell_type": "markdown",
      "metadata": {
        "id": "view-in-github",
        "colab_type": "text"
      },
      "source": [
        "<a href=\"https://colab.research.google.com/github/sanu1230/Academic-Project/blob/master/Auto_ML_TPOT_Regression_Property_sales_prediction.ipynb\" target=\"_parent\"><img src=\"https://colab.research.google.com/assets/colab-badge.svg\" alt=\"Open In Colab\"/></a>"
      ]
    },
    {
      "cell_type": "markdown",
      "metadata": {
        "id": "m74FSvHL1GWt",
        "colab_type": "text"
      },
      "source": [
        "## TPOT Regression - Property sales prediction"
      ]
    },
    {
      "cell_type": "code",
      "metadata": {
        "id": "dHskQ02LOhGo",
        "colab_type": "code",
        "colab": {
          "base_uri": "https://localhost:8080/",
          "height": 558
        },
        "outputId": "566a65cb-610d-4a9c-846b-9ea8e64abb54"
      },
      "source": [
        "# Install tpot on the server\n",
        "!pip install tpot"
      ],
      "execution_count": 1,
      "outputs": [
        {
          "output_type": "stream",
          "text": [
            "Collecting tpot\n",
            "\u001b[?25l  Downloading https://files.pythonhosted.org/packages/14/5e/cb87b0257033a7a396e533a634079ee151a239d180efe2a8b1d2e3584d23/TPOT-0.11.5-py3-none-any.whl (82kB)\n",
            "\r\u001b[K     |████                            | 10kB 24.8MB/s eta 0:00:01\r\u001b[K     |████████                        | 20kB 29.3MB/s eta 0:00:01\r\u001b[K     |████████████                    | 30kB 33.2MB/s eta 0:00:01\r\u001b[K     |████████████████                | 40kB 25.7MB/s eta 0:00:01\r\u001b[K     |████████████████████            | 51kB 16.2MB/s eta 0:00:01\r\u001b[K     |████████████████████████        | 61kB 14.8MB/s eta 0:00:01\r\u001b[K     |████████████████████████████    | 71kB 14.0MB/s eta 0:00:01\r\u001b[K     |███████████████████████████████▉| 81kB 13.1MB/s eta 0:00:01\r\u001b[K     |████████████████████████████████| 92kB 7.5MB/s \n",
            "\u001b[?25hRequirement already satisfied: scipy>=1.3.1 in /usr/local/lib/python3.6/dist-packages (from tpot) (1.4.1)\n",
            "Collecting stopit>=1.1.1\n",
            "  Downloading https://files.pythonhosted.org/packages/35/58/e8bb0b0fb05baf07bbac1450c447d753da65f9701f551dca79823ce15d50/stopit-1.1.2.tar.gz\n",
            "Requirement already satisfied: joblib>=0.13.2 in /usr/local/lib/python3.6/dist-packages (from tpot) (0.16.0)\n",
            "Collecting deap>=1.2\n",
            "\u001b[?25l  Downloading https://files.pythonhosted.org/packages/0a/eb/2bd0a32e3ce757fb26264765abbaedd6d4d3640d90219a513aeabd08ee2b/deap-1.3.1-cp36-cp36m-manylinux2010_x86_64.whl (157kB)\n",
            "\u001b[K     |████████████████████████████████| 163kB 12.4MB/s \n",
            "\u001b[?25hRequirement already satisfied: numpy>=1.16.3 in /usr/local/lib/python3.6/dist-packages (from tpot) (1.18.5)\n",
            "Collecting update-checker>=0.16\n",
            "  Downloading https://files.pythonhosted.org/packages/d6/c3/aaf8a162df8e8f9d321237c7c0e63aff95b42d19f1758f96606e3cabb245/update_checker-0.17-py2.py3-none-any.whl\n",
            "Requirement already satisfied: tqdm>=4.36.1 in /usr/local/lib/python3.6/dist-packages (from tpot) (4.41.1)\n",
            "Requirement already satisfied: scikit-learn>=0.22.0 in /usr/local/lib/python3.6/dist-packages (from tpot) (0.22.2.post1)\n",
            "Requirement already satisfied: pandas>=0.24.2 in /usr/local/lib/python3.6/dist-packages (from tpot) (1.0.5)\n",
            "Requirement already satisfied: requests>=2.3.0 in /usr/local/lib/python3.6/dist-packages (from update-checker>=0.16->tpot) (2.23.0)\n",
            "Requirement already satisfied: pytz>=2017.2 in /usr/local/lib/python3.6/dist-packages (from pandas>=0.24.2->tpot) (2018.9)\n",
            "Requirement already satisfied: python-dateutil>=2.6.1 in /usr/local/lib/python3.6/dist-packages (from pandas>=0.24.2->tpot) (2.8.1)\n",
            "Requirement already satisfied: urllib3!=1.25.0,!=1.25.1,<1.26,>=1.21.1 in /usr/local/lib/python3.6/dist-packages (from requests>=2.3.0->update-checker>=0.16->tpot) (1.24.3)\n",
            "Requirement already satisfied: chardet<4,>=3.0.2 in /usr/local/lib/python3.6/dist-packages (from requests>=2.3.0->update-checker>=0.16->tpot) (3.0.4)\n",
            "Requirement already satisfied: idna<3,>=2.5 in /usr/local/lib/python3.6/dist-packages (from requests>=2.3.0->update-checker>=0.16->tpot) (2.10)\n",
            "Requirement already satisfied: certifi>=2017.4.17 in /usr/local/lib/python3.6/dist-packages (from requests>=2.3.0->update-checker>=0.16->tpot) (2020.6.20)\n",
            "Requirement already satisfied: six>=1.5 in /usr/local/lib/python3.6/dist-packages (from python-dateutil>=2.6.1->pandas>=0.24.2->tpot) (1.15.0)\n",
            "Building wheels for collected packages: stopit\n",
            "  Building wheel for stopit (setup.py) ... \u001b[?25l\u001b[?25hdone\n",
            "  Created wheel for stopit: filename=stopit-1.1.2-cp36-none-any.whl size=11956 sha256=122b42382f5da8f2704ea03b10caa6a4aa9bee6b12a79f9ca4919a15000df669\n",
            "  Stored in directory: /root/.cache/pip/wheels/3c/85/2b/2580190404636bfc63e8de3dff629c03bb795021e1983a6cc7\n",
            "Successfully built stopit\n",
            "Installing collected packages: stopit, deap, update-checker, tpot\n",
            "Successfully installed deap-1.3.1 stopit-1.1.2 tpot-0.11.5 update-checker-0.17\n"
          ],
          "name": "stdout"
        }
      ]
    },
    {
      "cell_type": "markdown",
      "metadata": {
        "id": "YlpEu2Adyoje",
        "colab_type": "text"
      },
      "source": [
        "## Import Packages"
      ]
    },
    {
      "cell_type": "code",
      "metadata": {
        "id": "-a_vc_R0Poy0",
        "colab_type": "code",
        "colab": {}
      },
      "source": [
        "# pandas and numpy for data manipulation\n",
        "import pandas as pd\n",
        "import numpy as np\n",
        "\n",
        "# Import the tpot regressor\n",
        "from tpot import TPOTRegressor"
      ],
      "execution_count": 2,
      "outputs": []
    },
    {
      "cell_type": "code",
      "metadata": {
        "id": "8RSuMFaZQDOS",
        "colab_type": "code",
        "colab": {}
      },
      "source": [
        "#Download dataset\n",
        "!wget -q https://www.dropbox.com/s/6tc7e6rc395c7jz/nyc-property-sales.zip"
      ],
      "execution_count": 15,
      "outputs": []
    },
    {
      "cell_type": "code",
      "metadata": {
        "id": "Mq341NgIQvTp",
        "colab_type": "code",
        "colab": {
          "base_uri": "https://localhost:8080/",
          "height": 34
        },
        "outputId": "26b9af0c-0b27-4d22-a44b-762141801e56"
      },
      "source": [
        "\n",
        "#Unzip the data\n",
        "!unzip nyc-property-sales.zip > /dev/null; echo \" done.\""
      ],
      "execution_count": 16,
      "outputs": [
        {
          "output_type": "stream",
          "text": [
            " done.\n"
          ],
          "name": "stdout"
        }
      ]
    },
    {
      "cell_type": "code",
      "metadata": {
        "id": "MXnHe0kIQwGf",
        "colab_type": "code",
        "colab": {
          "base_uri": "https://localhost:8080/",
          "height": 34
        },
        "outputId": "312de5a4-de1d-49cb-8006-e9fbc81cf6f7"
      },
      "source": [
        "!ls"
      ],
      "execution_count": 17,
      "outputs": [
        {
          "output_type": "stream",
          "text": [
            "nyc-property-sales.zip\tnyc-rolling-sales.csv  sample_data\n"
          ],
          "name": "stdout"
        }
      ]
    },
    {
      "cell_type": "code",
      "metadata": {
        "id": "YdkofIAtRI0p",
        "colab_type": "code",
        "colab": {}
      },
      "source": [
        "import warnings\n",
        "warnings.filterwarnings(\"ignore\")\n",
        "import datetime\n",
        "import pandas as pd               \n",
        "import numpy as np\n",
        "import pickle\n",
        "import time\n"
      ],
      "execution_count": 19,
      "outputs": []
    },
    {
      "cell_type": "markdown",
      "metadata": {
        "id": "jXQsAGkS1X2C",
        "colab_type": "text"
      },
      "source": [
        "## Download and preprocess the dataset"
      ]
    },
    {
      "cell_type": "code",
      "metadata": {
        "id": "Rh9QUFBgQ2Y5",
        "colab_type": "code",
        "colab": {
          "base_uri": "https://localhost:8080/",
          "height": 551
        },
        "outputId": "65fb984f-3795-4dfd-beb1-fb6e62a519e9"
      },
      "source": [
        "t_start = time.time()\n",
        "df_prop = pd.read_csv('nyc-rolling-sales.csv')\n",
        "t_end = time.time()\n",
        "print('pd.read_csv(): {} s'.format(t_end-t_start)) # time [s]\n",
        "df_prop.head()"
      ],
      "execution_count": 20,
      "outputs": [
        {
          "output_type": "stream",
          "text": [
            "pd.read_csv(): 0.2600677013397217 s\n"
          ],
          "name": "stdout"
        },
        {
          "output_type": "execute_result",
          "data": {
            "text/html": [
              "<div>\n",
              "<style scoped>\n",
              "    .dataframe tbody tr th:only-of-type {\n",
              "        vertical-align: middle;\n",
              "    }\n",
              "\n",
              "    .dataframe tbody tr th {\n",
              "        vertical-align: top;\n",
              "    }\n",
              "\n",
              "    .dataframe thead th {\n",
              "        text-align: right;\n",
              "    }\n",
              "</style>\n",
              "<table border=\"1\" class=\"dataframe\">\n",
              "  <thead>\n",
              "    <tr style=\"text-align: right;\">\n",
              "      <th></th>\n",
              "      <th>Unnamed: 0</th>\n",
              "      <th>BOROUGH</th>\n",
              "      <th>NEIGHBORHOOD</th>\n",
              "      <th>BUILDING CLASS CATEGORY</th>\n",
              "      <th>TAX CLASS AT PRESENT</th>\n",
              "      <th>BLOCK</th>\n",
              "      <th>LOT</th>\n",
              "      <th>EASE-MENT</th>\n",
              "      <th>BUILDING CLASS AT PRESENT</th>\n",
              "      <th>ADDRESS</th>\n",
              "      <th>APARTMENT NUMBER</th>\n",
              "      <th>ZIP CODE</th>\n",
              "      <th>RESIDENTIAL UNITS</th>\n",
              "      <th>COMMERCIAL UNITS</th>\n",
              "      <th>TOTAL UNITS</th>\n",
              "      <th>LAND SQUARE FEET</th>\n",
              "      <th>GROSS SQUARE FEET</th>\n",
              "      <th>YEAR BUILT</th>\n",
              "      <th>TAX CLASS AT TIME OF SALE</th>\n",
              "      <th>BUILDING CLASS AT TIME OF SALE</th>\n",
              "      <th>SALE PRICE</th>\n",
              "      <th>SALE DATE</th>\n",
              "    </tr>\n",
              "  </thead>\n",
              "  <tbody>\n",
              "    <tr>\n",
              "      <th>0</th>\n",
              "      <td>4</td>\n",
              "      <td>1</td>\n",
              "      <td>ALPHABET CITY</td>\n",
              "      <td>07 RENTALS - WALKUP APARTMENTS</td>\n",
              "      <td>2A</td>\n",
              "      <td>392</td>\n",
              "      <td>6</td>\n",
              "      <td></td>\n",
              "      <td>C2</td>\n",
              "      <td>153 AVENUE B</td>\n",
              "      <td></td>\n",
              "      <td>10009</td>\n",
              "      <td>5</td>\n",
              "      <td>0</td>\n",
              "      <td>5</td>\n",
              "      <td>1633</td>\n",
              "      <td>6440</td>\n",
              "      <td>1900</td>\n",
              "      <td>2</td>\n",
              "      <td>C2</td>\n",
              "      <td>6625000</td>\n",
              "      <td>2017-07-19 00:00:00</td>\n",
              "    </tr>\n",
              "    <tr>\n",
              "      <th>1</th>\n",
              "      <td>5</td>\n",
              "      <td>1</td>\n",
              "      <td>ALPHABET CITY</td>\n",
              "      <td>07 RENTALS - WALKUP APARTMENTS</td>\n",
              "      <td>2</td>\n",
              "      <td>399</td>\n",
              "      <td>26</td>\n",
              "      <td></td>\n",
              "      <td>C7</td>\n",
              "      <td>234 EAST 4TH   STREET</td>\n",
              "      <td></td>\n",
              "      <td>10009</td>\n",
              "      <td>28</td>\n",
              "      <td>3</td>\n",
              "      <td>31</td>\n",
              "      <td>4616</td>\n",
              "      <td>18690</td>\n",
              "      <td>1900</td>\n",
              "      <td>2</td>\n",
              "      <td>C7</td>\n",
              "      <td>-</td>\n",
              "      <td>2016-12-14 00:00:00</td>\n",
              "    </tr>\n",
              "    <tr>\n",
              "      <th>2</th>\n",
              "      <td>6</td>\n",
              "      <td>1</td>\n",
              "      <td>ALPHABET CITY</td>\n",
              "      <td>07 RENTALS - WALKUP APARTMENTS</td>\n",
              "      <td>2</td>\n",
              "      <td>399</td>\n",
              "      <td>39</td>\n",
              "      <td></td>\n",
              "      <td>C7</td>\n",
              "      <td>197 EAST 3RD   STREET</td>\n",
              "      <td></td>\n",
              "      <td>10009</td>\n",
              "      <td>16</td>\n",
              "      <td>1</td>\n",
              "      <td>17</td>\n",
              "      <td>2212</td>\n",
              "      <td>7803</td>\n",
              "      <td>1900</td>\n",
              "      <td>2</td>\n",
              "      <td>C7</td>\n",
              "      <td>-</td>\n",
              "      <td>2016-12-09 00:00:00</td>\n",
              "    </tr>\n",
              "    <tr>\n",
              "      <th>3</th>\n",
              "      <td>7</td>\n",
              "      <td>1</td>\n",
              "      <td>ALPHABET CITY</td>\n",
              "      <td>07 RENTALS - WALKUP APARTMENTS</td>\n",
              "      <td>2B</td>\n",
              "      <td>402</td>\n",
              "      <td>21</td>\n",
              "      <td></td>\n",
              "      <td>C4</td>\n",
              "      <td>154 EAST 7TH STREET</td>\n",
              "      <td></td>\n",
              "      <td>10009</td>\n",
              "      <td>10</td>\n",
              "      <td>0</td>\n",
              "      <td>10</td>\n",
              "      <td>2272</td>\n",
              "      <td>6794</td>\n",
              "      <td>1913</td>\n",
              "      <td>2</td>\n",
              "      <td>C4</td>\n",
              "      <td>3936272</td>\n",
              "      <td>2016-09-23 00:00:00</td>\n",
              "    </tr>\n",
              "    <tr>\n",
              "      <th>4</th>\n",
              "      <td>8</td>\n",
              "      <td>1</td>\n",
              "      <td>ALPHABET CITY</td>\n",
              "      <td>07 RENTALS - WALKUP APARTMENTS</td>\n",
              "      <td>2A</td>\n",
              "      <td>404</td>\n",
              "      <td>55</td>\n",
              "      <td></td>\n",
              "      <td>C2</td>\n",
              "      <td>301 EAST 10TH   STREET</td>\n",
              "      <td></td>\n",
              "      <td>10009</td>\n",
              "      <td>6</td>\n",
              "      <td>0</td>\n",
              "      <td>6</td>\n",
              "      <td>2369</td>\n",
              "      <td>4615</td>\n",
              "      <td>1900</td>\n",
              "      <td>2</td>\n",
              "      <td>C2</td>\n",
              "      <td>8000000</td>\n",
              "      <td>2016-11-17 00:00:00</td>\n",
              "    </tr>\n",
              "  </tbody>\n",
              "</table>\n",
              "</div>"
            ],
            "text/plain": [
              "   Unnamed: 0  BOROUGH  ... SALE PRICE            SALE DATE\n",
              "0           4        1  ...    6625000  2017-07-19 00:00:00\n",
              "1           5        1  ...        -    2016-12-14 00:00:00\n",
              "2           6        1  ...        -    2016-12-09 00:00:00\n",
              "3           7        1  ...    3936272  2016-09-23 00:00:00\n",
              "4           8        1  ...    8000000  2016-11-17 00:00:00\n",
              "\n",
              "[5 rows x 22 columns]"
            ]
          },
          "metadata": {
            "tags": []
          },
          "execution_count": 20
        }
      ]
    },
    {
      "cell_type": "code",
      "metadata": {
        "id": "lP3BDL4mcUmB",
        "colab_type": "code",
        "colab": {
          "base_uri": "https://localhost:8080/",
          "height": 34
        },
        "outputId": "62c4151f-e7c9-410b-ca16-d50a263954f2"
      },
      "source": [
        "df_prop.shape"
      ],
      "execution_count": 21,
      "outputs": [
        {
          "output_type": "execute_result",
          "data": {
            "text/plain": [
              "(84548, 22)"
            ]
          },
          "metadata": {
            "tags": []
          },
          "execution_count": 21
        }
      ]
    },
    {
      "cell_type": "code",
      "metadata": {
        "id": "6SApzyMdRCHY",
        "colab_type": "code",
        "colab": {
          "base_uri": "https://localhost:8080/",
          "height": 34
        },
        "outputId": "7561b87c-09ce-49c1-8c5b-f41853de3503"
      },
      "source": [
        "# Sample n rows\n",
        "n = 10000\n",
        "df_prop = df_prop.sample(n, random_state=1)\n",
        "df_prop.shape"
      ],
      "execution_count": 22,
      "outputs": [
        {
          "output_type": "execute_result",
          "data": {
            "text/plain": [
              "(10000, 22)"
            ]
          },
          "metadata": {
            "tags": []
          },
          "execution_count": 22
        }
      ]
    },
    {
      "cell_type": "code",
      "metadata": {
        "id": "yzuiJYilaGyq",
        "colab_type": "code",
        "colab": {}
      },
      "source": [
        "#This column has no significance other than being an iterator\n",
        "del df_prop['Unnamed: 0']\n",
        "#This column has no significant value\n",
        "del df_prop['EASE-MENT']\n"
      ],
      "execution_count": 23,
      "outputs": []
    },
    {
      "cell_type": "code",
      "metadata": {
        "id": "Xb3XwPhjbFy-",
        "colab_type": "code",
        "colab": {}
      },
      "source": [
        "df_prop['SALE PRICE'] = df_prop['SALE PRICE'].replace(' -  ',np.nan)\n",
        "df_prop.dropna(inplace=True)"
      ],
      "execution_count": 24,
      "outputs": []
    },
    {
      "cell_type": "code",
      "metadata": {
        "id": "08g5oEQxHJAM",
        "colab_type": "code",
        "colab": {}
      },
      "source": [
        "df_prop['LAND SQUARE FEET'] = df_prop['LAND SQUARE FEET'].replace(' -  ',np.nan)\n",
        "df_prop['GROSS SQUARE FEET'] = df_prop['GROSS SQUARE FEET'].replace(' -  ',np.nan)"
      ],
      "execution_count": 25,
      "outputs": []
    },
    {
      "cell_type": "code",
      "metadata": {
        "id": "S4uFd1Y5LJkw",
        "colab_type": "code",
        "colab": {}
      },
      "source": [
        "## Define a function impute_median and fill land square feet and gross square feet with median values\n",
        "def impute_median(series):\n",
        "    return series.fillna(series.median())\n",
        "\n",
        "df_prop['LAND SQUARE FEET'] = df_prop['LAND SQUARE FEET'].transform(impute_median)\n",
        "df_prop['GROSS SQUARE FEET'] = df_prop['GROSS SQUARE FEET'].transform(impute_median)"
      ],
      "execution_count": 26,
      "outputs": []
    },
    {
      "cell_type": "code",
      "metadata": {
        "id": "NX-hp8gU5Ynt",
        "colab_type": "code",
        "colab": {}
      },
      "source": [
        "#Convert few column datatypes into appropriate ones for conserving memory\n",
        "\n",
        "df_prop['TAX CLASS AT TIME OF SALE'] = df_prop['TAX CLASS AT TIME OF SALE'].astype('category')\n",
        "df_prop['TAX CLASS AT PRESENT'] = df_prop['TAX CLASS AT PRESENT'].astype('category')\n",
        "df_prop['LAND SQUARE FEET'] = pd.to_numeric(df_prop['LAND SQUARE FEET'], errors='coerce')\n",
        "df_prop['GROSS SQUARE FEET']= pd.to_numeric(df_prop['GROSS SQUARE FEET'], errors='coerce')\n",
        "df_prop['SALE PRICE'] = pd.to_numeric(df_prop['SALE PRICE'], errors='coerce')\n",
        "df_prop['BOROUGH'] = df_prop['BOROUGH'].astype('category')"
      ],
      "execution_count": 27,
      "outputs": []
    },
    {
      "cell_type": "code",
      "metadata": {
        "id": "vGOTPv-4KFtp",
        "colab_type": "code",
        "colab": {}
      },
      "source": [
        "# Let's remove sale price with a nonsensically small dollar amount: $0 most commonly. \n",
        "# Since these sales are actually transfers of deeds between parties: for example, parents transferring ownership to their home to a child after moving out for retirement.\n",
        "\n",
        "df_prop = df_prop[df_prop['SALE PRICE']!=0]"
      ],
      "execution_count": 28,
      "outputs": []
    },
    {
      "cell_type": "code",
      "metadata": {
        "id": "xUiESwOKUfNE",
        "colab_type": "code",
        "colab": {}
      },
      "source": [
        "#Let's also remove observations that have gross square feet less than 400 sq. ft\n",
        "#Let's also remove observations that have gross square feet less than 400 sq. ft\n",
        "#Let's also remove observations that have sale price than 1000 dollars\n",
        "\n",
        "df_prop = df_prop[df_prop['GROSS SQUARE FEET']>400]\n",
        "df_prop = df_prop[df_prop['LAND SQUARE FEET']>400]\n",
        "df_prop = df_prop[df_prop['SALE PRICE']>1000]"
      ],
      "execution_count": 29,
      "outputs": []
    },
    {
      "cell_type": "code",
      "metadata": {
        "id": "OAi_LsKdmdjq",
        "colab_type": "code",
        "colab": {
          "base_uri": "https://localhost:8080/",
          "height": 34
        },
        "outputId": "85dbf938-28c7-48e1-f095-25c5bb5cdd37"
      },
      "source": [
        "q = df_prop[\"SALE PRICE\"].quantile(0.99)\n",
        "q"
      ],
      "execution_count": 30,
      "outputs": [
        {
          "output_type": "execute_result",
          "data": {
            "text/plain": [
              "15750000.0"
            ]
          },
          "metadata": {
            "tags": []
          },
          "execution_count": 30
        }
      ]
    },
    {
      "cell_type": "code",
      "metadata": {
        "id": "X2-nieJ6mm1_",
        "colab_type": "code",
        "colab": {}
      },
      "source": [
        "df_prop = df_prop[df_prop[\"SALE PRICE\"] < q]\n",
        "df_prop_lin = df_prop.copy()"
      ],
      "execution_count": 31,
      "outputs": []
    },
    {
      "cell_type": "code",
      "metadata": {
        "id": "uTa-VK93AxrM",
        "colab_type": "code",
        "colab": {}
      },
      "source": [
        "# Convert sale date into time,month,year and day\n",
        "import datetime\n",
        "df_prop['SALE DATE'] = pd.to_datetime(df_prop['SALE DATE'])\n",
        "df_prop['year'] = df_prop['SALE DATE'].dt.year\n",
        "df_prop['month'] = df_prop['SALE DATE'].dt.month\n",
        "df_prop['day'] = df_prop['SALE DATE'].dt.day\n",
        "df_prop['time'] = df_prop['SALE DATE'].dt.hour\n",
        "df_prop['week_day'] = df_prop['SALE DATE'].dt.day_name()"
      ],
      "execution_count": 32,
      "outputs": []
    },
    {
      "cell_type": "code",
      "metadata": {
        "id": "Nno9hdra1JwO",
        "colab_type": "code",
        "colab": {}
      },
      "source": [
        "#Assign numbered bouroughs to bourough names\n",
        "dic = {1: 'Manhattan', 2: 'Bronx', 3: 'Brooklyn', 4: 'Queens', 5:'Staten Island'}\n",
        "df_prop[\"borough_name\"] = df_prop[\"BOROUGH\"].apply(lambda x: dic[x])"
      ],
      "execution_count": 33,
      "outputs": []
    },
    {
      "cell_type": "code",
      "metadata": {
        "id": "ArsLaEYc84pi",
        "colab_type": "code",
        "colab": {
          "base_uri": "https://localhost:8080/",
          "height": 484
        },
        "outputId": "d8cf2c00-e0fe-4907-ff65-8f00bdb38914"
      },
      "source": [
        "df_prop.head()"
      ],
      "execution_count": 34,
      "outputs": [
        {
          "output_type": "execute_result",
          "data": {
            "text/html": [
              "<div>\n",
              "<style scoped>\n",
              "    .dataframe tbody tr th:only-of-type {\n",
              "        vertical-align: middle;\n",
              "    }\n",
              "\n",
              "    .dataframe tbody tr th {\n",
              "        vertical-align: top;\n",
              "    }\n",
              "\n",
              "    .dataframe thead th {\n",
              "        text-align: right;\n",
              "    }\n",
              "</style>\n",
              "<table border=\"1\" class=\"dataframe\">\n",
              "  <thead>\n",
              "    <tr style=\"text-align: right;\">\n",
              "      <th></th>\n",
              "      <th>BOROUGH</th>\n",
              "      <th>NEIGHBORHOOD</th>\n",
              "      <th>BUILDING CLASS CATEGORY</th>\n",
              "      <th>TAX CLASS AT PRESENT</th>\n",
              "      <th>BLOCK</th>\n",
              "      <th>LOT</th>\n",
              "      <th>BUILDING CLASS AT PRESENT</th>\n",
              "      <th>ADDRESS</th>\n",
              "      <th>APARTMENT NUMBER</th>\n",
              "      <th>ZIP CODE</th>\n",
              "      <th>RESIDENTIAL UNITS</th>\n",
              "      <th>COMMERCIAL UNITS</th>\n",
              "      <th>TOTAL UNITS</th>\n",
              "      <th>LAND SQUARE FEET</th>\n",
              "      <th>GROSS SQUARE FEET</th>\n",
              "      <th>YEAR BUILT</th>\n",
              "      <th>TAX CLASS AT TIME OF SALE</th>\n",
              "      <th>BUILDING CLASS AT TIME OF SALE</th>\n",
              "      <th>SALE PRICE</th>\n",
              "      <th>SALE DATE</th>\n",
              "      <th>year</th>\n",
              "      <th>month</th>\n",
              "      <th>day</th>\n",
              "      <th>time</th>\n",
              "      <th>week_day</th>\n",
              "      <th>borough_name</th>\n",
              "    </tr>\n",
              "  </thead>\n",
              "  <tbody>\n",
              "    <tr>\n",
              "      <th>32184</th>\n",
              "      <td>3</td>\n",
              "      <td>CANARSIE</td>\n",
              "      <td>01 ONE FAMILY DWELLINGS</td>\n",
              "      <td>1</td>\n",
              "      <td>8066</td>\n",
              "      <td>18</td>\n",
              "      <td>A2</td>\n",
              "      <td>1249 EAST 87 STREET</td>\n",
              "      <td></td>\n",
              "      <td>11236</td>\n",
              "      <td>1</td>\n",
              "      <td>0</td>\n",
              "      <td>1</td>\n",
              "      <td>2833.0</td>\n",
              "      <td>1400.0</td>\n",
              "      <td>1935</td>\n",
              "      <td>1</td>\n",
              "      <td>A2</td>\n",
              "      <td>315270</td>\n",
              "      <td>2016-11-17</td>\n",
              "      <td>2016</td>\n",
              "      <td>11</td>\n",
              "      <td>17</td>\n",
              "      <td>0</td>\n",
              "      <td>Thursday</td>\n",
              "      <td>Brooklyn</td>\n",
              "    </tr>\n",
              "    <tr>\n",
              "      <th>83718</th>\n",
              "      <td>5</td>\n",
              "      <td>WEST NEW BRIGHTON</td>\n",
              "      <td>01 ONE FAMILY DWELLINGS</td>\n",
              "      <td>1</td>\n",
              "      <td>223</td>\n",
              "      <td>4</td>\n",
              "      <td>A5</td>\n",
              "      <td>447 CLOVE ROAD</td>\n",
              "      <td></td>\n",
              "      <td>10310</td>\n",
              "      <td>1</td>\n",
              "      <td>0</td>\n",
              "      <td>1</td>\n",
              "      <td>1456.0</td>\n",
              "      <td>1120.0</td>\n",
              "      <td>1899</td>\n",
              "      <td>1</td>\n",
              "      <td>A5</td>\n",
              "      <td>112500</td>\n",
              "      <td>2016-09-08</td>\n",
              "      <td>2016</td>\n",
              "      <td>9</td>\n",
              "      <td>8</td>\n",
              "      <td>0</td>\n",
              "      <td>Thursday</td>\n",
              "      <td>Staten Island</td>\n",
              "    </tr>\n",
              "    <tr>\n",
              "      <th>56085</th>\n",
              "      <td>4</td>\n",
              "      <td>FLUSHING-NORTH</td>\n",
              "      <td>01 ONE FAMILY DWELLINGS</td>\n",
              "      <td>1</td>\n",
              "      <td>4808</td>\n",
              "      <td>11</td>\n",
              "      <td>A1</td>\n",
              "      <td>30-15 148TH STREET</td>\n",
              "      <td></td>\n",
              "      <td>11354</td>\n",
              "      <td>1</td>\n",
              "      <td>0</td>\n",
              "      <td>1</td>\n",
              "      <td>6789.0</td>\n",
              "      <td>2971.0</td>\n",
              "      <td>1930</td>\n",
              "      <td>1</td>\n",
              "      <td>A1</td>\n",
              "      <td>1285000</td>\n",
              "      <td>2016-10-12</td>\n",
              "      <td>2016</td>\n",
              "      <td>10</td>\n",
              "      <td>12</td>\n",
              "      <td>0</td>\n",
              "      <td>Wednesday</td>\n",
              "      <td>Queens</td>\n",
              "    </tr>\n",
              "    <tr>\n",
              "      <th>55547</th>\n",
              "      <td>4</td>\n",
              "      <td>FAR ROCKAWAY</td>\n",
              "      <td>02 TWO FAMILY DWELLINGS</td>\n",
              "      <td>1</td>\n",
              "      <td>15614</td>\n",
              "      <td>60</td>\n",
              "      <td>B3</td>\n",
              "      <td>12-12 PLAINVIEW AVENUE</td>\n",
              "      <td></td>\n",
              "      <td>11691</td>\n",
              "      <td>2</td>\n",
              "      <td>0</td>\n",
              "      <td>2</td>\n",
              "      <td>1950.0</td>\n",
              "      <td>1488.0</td>\n",
              "      <td>1940</td>\n",
              "      <td>1</td>\n",
              "      <td>B3</td>\n",
              "      <td>385000</td>\n",
              "      <td>2016-12-12</td>\n",
              "      <td>2016</td>\n",
              "      <td>12</td>\n",
              "      <td>12</td>\n",
              "      <td>0</td>\n",
              "      <td>Monday</td>\n",
              "      <td>Queens</td>\n",
              "    </tr>\n",
              "    <tr>\n",
              "      <th>80343</th>\n",
              "      <td>5</td>\n",
              "      <td>NEW BRIGHTON-ST. GEORGE</td>\n",
              "      <td>31 COMMERCIAL VACANT LAND</td>\n",
              "      <td>4</td>\n",
              "      <td>13</td>\n",
              "      <td>68</td>\n",
              "      <td>V1</td>\n",
              "      <td>208 RICHMOND TERRACE</td>\n",
              "      <td></td>\n",
              "      <td>10301</td>\n",
              "      <td>0</td>\n",
              "      <td>0</td>\n",
              "      <td>0</td>\n",
              "      <td>5756.0</td>\n",
              "      <td>1644.5</td>\n",
              "      <td>0</td>\n",
              "      <td>4</td>\n",
              "      <td>V1</td>\n",
              "      <td>1200000</td>\n",
              "      <td>2017-01-12</td>\n",
              "      <td>2017</td>\n",
              "      <td>1</td>\n",
              "      <td>12</td>\n",
              "      <td>0</td>\n",
              "      <td>Thursday</td>\n",
              "      <td>Staten Island</td>\n",
              "    </tr>\n",
              "  </tbody>\n",
              "</table>\n",
              "</div>"
            ],
            "text/plain": [
              "      BOROUGH             NEIGHBORHOOD  ...   week_day   borough_name\n",
              "32184       3                 CANARSIE  ...   Thursday       Brooklyn\n",
              "83718       5        WEST NEW BRIGHTON  ...   Thursday  Staten Island\n",
              "56085       4           FLUSHING-NORTH  ...  Wednesday         Queens\n",
              "55547       4             FAR ROCKAWAY  ...     Monday         Queens\n",
              "80343       5  NEW BRIGHTON-ST. GEORGE  ...   Thursday  Staten Island\n",
              "\n",
              "[5 rows x 26 columns]"
            ]
          },
          "metadata": {
            "tags": []
          },
          "execution_count": 34
        }
      ]
    },
    {
      "cell_type": "code",
      "metadata": {
        "id": "rY78D0_OVV1K",
        "colab_type": "code",
        "colab": {}
      },
      "source": [
        "#Dropping few columns\n",
        "del df_prop_lin['BUILDING CLASS AT PRESENT']\n",
        "del df_prop_lin['BUILDING CLASS AT TIME OF SALE']\n",
        "del df_prop_lin['NEIGHBORHOOD']\n",
        "del df_prop_lin['ADDRESS']\n",
        "del df_prop_lin['SALE DATE']\n",
        "del df_prop_lin['APARTMENT NUMBER']\n",
        "del df_prop_lin['RESIDENTIAL UNITS']\n",
        "del df_prop_lin['COMMERCIAL UNITS']\n"
      ],
      "execution_count": 35,
      "outputs": []
    },
    {
      "cell_type": "code",
      "metadata": {
        "id": "EvX2mA3FUsrS",
        "colab_type": "code",
        "colab": {
          "base_uri": "https://localhost:8080/",
          "height": 991
        },
        "outputId": "59d375d4-7a78-497d-ac6d-0942f66fbf27"
      },
      "source": [
        "#Select the variables to be one-hot encoded\n",
        "one_hot_features = ['BOROUGH', 'BUILDING CLASS CATEGORY','TAX CLASS AT PRESENT','TAX CLASS AT TIME OF SALE']\n",
        "# Convert categorical variables into dummy/indicator variables (i.e. one-hot encoding).\n",
        "one_hot_encoded = pd.get_dummies(df_prop_lin[one_hot_features],drop_first=True)\n",
        "one_hot_encoded.info(verbose=True, memory_usage=True, null_counts=True)"
      ],
      "execution_count": 36,
      "outputs": [
        {
          "output_type": "stream",
          "text": [
            "<class 'pandas.core.frame.DataFrame'>\n",
            "Int64Index: 5873 entries, 32184 to 64852\n",
            "Data columns (total 51 columns):\n",
            " #   Column                                                               Non-Null Count  Dtype\n",
            "---  ------                                                               --------------  -----\n",
            " 0   BOROUGH_2                                                            5873 non-null   uint8\n",
            " 1   BOROUGH_3                                                            5873 non-null   uint8\n",
            " 2   BOROUGH_4                                                            5873 non-null   uint8\n",
            " 3   BOROUGH_5                                                            5873 non-null   uint8\n",
            " 4   BUILDING CLASS CATEGORY_02 TWO FAMILY DWELLINGS                      5873 non-null   uint8\n",
            " 5   BUILDING CLASS CATEGORY_03 THREE FAMILY DWELLINGS                    5873 non-null   uint8\n",
            " 6   BUILDING CLASS CATEGORY_04 TAX CLASS 1 CONDOS                        5873 non-null   uint8\n",
            " 7   BUILDING CLASS CATEGORY_05 TAX CLASS 1 VACANT LAND                   5873 non-null   uint8\n",
            " 8   BUILDING CLASS CATEGORY_06 TAX CLASS 1 - OTHER                       5873 non-null   uint8\n",
            " 9   BUILDING CLASS CATEGORY_07 RENTALS - WALKUP APARTMENTS               5873 non-null   uint8\n",
            " 10  BUILDING CLASS CATEGORY_08 RENTALS - ELEVATOR APARTMENTS             5873 non-null   uint8\n",
            " 11  BUILDING CLASS CATEGORY_09 COOPS - WALKUP APARTMENTS                 5873 non-null   uint8\n",
            " 12  BUILDING CLASS CATEGORY_10 COOPS - ELEVATOR APARTMENTS               5873 non-null   uint8\n",
            " 13  BUILDING CLASS CATEGORY_12 CONDOS - WALKUP APARTMENTS                5873 non-null   uint8\n",
            " 14  BUILDING CLASS CATEGORY_13 CONDOS - ELEVATOR APARTMENTS              5873 non-null   uint8\n",
            " 15  BUILDING CLASS CATEGORY_14 RENTALS - 4-10 UNIT                       5873 non-null   uint8\n",
            " 16  BUILDING CLASS CATEGORY_15 CONDOS - 2-10 UNIT RESIDENTIAL            5873 non-null   uint8\n",
            " 17  BUILDING CLASS CATEGORY_16 CONDOS - 2-10 UNIT WITH COMMERCIAL UNIT   5873 non-null   uint8\n",
            " 18  BUILDING CLASS CATEGORY_17 CONDO COOPS                               5873 non-null   uint8\n",
            " 19  BUILDING CLASS CATEGORY_21 OFFICE BUILDINGS                          5873 non-null   uint8\n",
            " 20  BUILDING CLASS CATEGORY_22 STORE BUILDINGS                           5873 non-null   uint8\n",
            " 21  BUILDING CLASS CATEGORY_23 LOFT BUILDINGS                            5873 non-null   uint8\n",
            " 22  BUILDING CLASS CATEGORY_26 OTHER HOTELS                              5873 non-null   uint8\n",
            " 23  BUILDING CLASS CATEGORY_27 FACTORIES                                 5873 non-null   uint8\n",
            " 24  BUILDING CLASS CATEGORY_28 COMMERCIAL CONDOS                         5873 non-null   uint8\n",
            " 25  BUILDING CLASS CATEGORY_29 COMMERCIAL GARAGES                        5873 non-null   uint8\n",
            " 26  BUILDING CLASS CATEGORY_30 WAREHOUSES                                5873 non-null   uint8\n",
            " 27  BUILDING CLASS CATEGORY_31 COMMERCIAL VACANT LAND                    5873 non-null   uint8\n",
            " 28  BUILDING CLASS CATEGORY_32 HOSPITAL AND HEALTH FACILITIES            5873 non-null   uint8\n",
            " 29  BUILDING CLASS CATEGORY_33 EDUCATIONAL FACILITIES                    5873 non-null   uint8\n",
            " 30  BUILDING CLASS CATEGORY_35 INDOOR PUBLIC AND CULTURAL FACILITIES     5873 non-null   uint8\n",
            " 31  BUILDING CLASS CATEGORY_36 OUTDOOR RECREATIONAL FACILITIES           5873 non-null   uint8\n",
            " 32  BUILDING CLASS CATEGORY_37 RELIGIOUS FACILITIES                      5873 non-null   uint8\n",
            " 33  BUILDING CLASS CATEGORY_38 ASYLUMS AND HOMES                         5873 non-null   uint8\n",
            " 34  BUILDING CLASS CATEGORY_41 TAX CLASS 4 - OTHER                       5873 non-null   uint8\n",
            " 35  BUILDING CLASS CATEGORY_43 CONDO OFFICE BUILDINGS                    5873 non-null   uint8\n",
            " 36  BUILDING CLASS CATEGORY_44 CONDO PARKING                             5873 non-null   uint8\n",
            " 37  BUILDING CLASS CATEGORY_45 CONDO HOTELS                              5873 non-null   uint8\n",
            " 38  BUILDING CLASS CATEGORY_46 CONDO STORE BUILDINGS                     5873 non-null   uint8\n",
            " 39  BUILDING CLASS CATEGORY_47 CONDO NON-BUSINESS STORAGE                5873 non-null   uint8\n",
            " 40  TAX CLASS AT PRESENT_1                                               5873 non-null   uint8\n",
            " 41  TAX CLASS AT PRESENT_1A                                              5873 non-null   uint8\n",
            " 42  TAX CLASS AT PRESENT_1B                                              5873 non-null   uint8\n",
            " 43  TAX CLASS AT PRESENT_1C                                              5873 non-null   uint8\n",
            " 44  TAX CLASS AT PRESENT_2                                               5873 non-null   uint8\n",
            " 45  TAX CLASS AT PRESENT_2A                                              5873 non-null   uint8\n",
            " 46  TAX CLASS AT PRESENT_2B                                              5873 non-null   uint8\n",
            " 47  TAX CLASS AT PRESENT_2C                                              5873 non-null   uint8\n",
            " 48  TAX CLASS AT PRESENT_4                                               5873 non-null   uint8\n",
            " 49  TAX CLASS AT TIME OF SALE_2                                          5873 non-null   uint8\n",
            " 50  TAX CLASS AT TIME OF SALE_4                                          5873 non-null   uint8\n",
            "dtypes: uint8(51)\n",
            "memory usage: 338.4 KB\n"
          ],
          "name": "stdout"
        }
      ]
    },
    {
      "cell_type": "code",
      "metadata": {
        "id": "pTZYdq-kU3UR",
        "colab_type": "code",
        "colab": {}
      },
      "source": [
        "# Replacing categorical columns with dummies\n",
        "fdf = df_prop_lin.drop(one_hot_features,axis=1)\n",
        "fdf = pd.concat([fdf, one_hot_encoded] ,axis=1)\n"
      ],
      "execution_count": 37,
      "outputs": []
    },
    {
      "cell_type": "code",
      "metadata": {
        "id": "5AoBCEHbXG9V",
        "colab_type": "code",
        "colab": {
          "base_uri": "https://localhost:8080/",
          "height": 1000
        },
        "outputId": "4ef56db5-73ce-487c-c7ed-c17758d234ff"
      },
      "source": [
        "fdf.info()"
      ],
      "execution_count": 38,
      "outputs": [
        {
          "output_type": "stream",
          "text": [
            "<class 'pandas.core.frame.DataFrame'>\n",
            "Int64Index: 5873 entries, 32184 to 64852\n",
            "Data columns (total 59 columns):\n",
            " #   Column                                                               Non-Null Count  Dtype  \n",
            "---  ------                                                               --------------  -----  \n",
            " 0   BLOCK                                                                5873 non-null   int64  \n",
            " 1   LOT                                                                  5873 non-null   int64  \n",
            " 2   ZIP CODE                                                             5873 non-null   int64  \n",
            " 3   TOTAL UNITS                                                          5873 non-null   int64  \n",
            " 4   LAND SQUARE FEET                                                     5873 non-null   float64\n",
            " 5   GROSS SQUARE FEET                                                    5873 non-null   float64\n",
            " 6   YEAR BUILT                                                           5873 non-null   int64  \n",
            " 7   SALE PRICE                                                           5873 non-null   int64  \n",
            " 8   BOROUGH_2                                                            5873 non-null   uint8  \n",
            " 9   BOROUGH_3                                                            5873 non-null   uint8  \n",
            " 10  BOROUGH_4                                                            5873 non-null   uint8  \n",
            " 11  BOROUGH_5                                                            5873 non-null   uint8  \n",
            " 12  BUILDING CLASS CATEGORY_02 TWO FAMILY DWELLINGS                      5873 non-null   uint8  \n",
            " 13  BUILDING CLASS CATEGORY_03 THREE FAMILY DWELLINGS                    5873 non-null   uint8  \n",
            " 14  BUILDING CLASS CATEGORY_04 TAX CLASS 1 CONDOS                        5873 non-null   uint8  \n",
            " 15  BUILDING CLASS CATEGORY_05 TAX CLASS 1 VACANT LAND                   5873 non-null   uint8  \n",
            " 16  BUILDING CLASS CATEGORY_06 TAX CLASS 1 - OTHER                       5873 non-null   uint8  \n",
            " 17  BUILDING CLASS CATEGORY_07 RENTALS - WALKUP APARTMENTS               5873 non-null   uint8  \n",
            " 18  BUILDING CLASS CATEGORY_08 RENTALS - ELEVATOR APARTMENTS             5873 non-null   uint8  \n",
            " 19  BUILDING CLASS CATEGORY_09 COOPS - WALKUP APARTMENTS                 5873 non-null   uint8  \n",
            " 20  BUILDING CLASS CATEGORY_10 COOPS - ELEVATOR APARTMENTS               5873 non-null   uint8  \n",
            " 21  BUILDING CLASS CATEGORY_12 CONDOS - WALKUP APARTMENTS                5873 non-null   uint8  \n",
            " 22  BUILDING CLASS CATEGORY_13 CONDOS - ELEVATOR APARTMENTS              5873 non-null   uint8  \n",
            " 23  BUILDING CLASS CATEGORY_14 RENTALS - 4-10 UNIT                       5873 non-null   uint8  \n",
            " 24  BUILDING CLASS CATEGORY_15 CONDOS - 2-10 UNIT RESIDENTIAL            5873 non-null   uint8  \n",
            " 25  BUILDING CLASS CATEGORY_16 CONDOS - 2-10 UNIT WITH COMMERCIAL UNIT   5873 non-null   uint8  \n",
            " 26  BUILDING CLASS CATEGORY_17 CONDO COOPS                               5873 non-null   uint8  \n",
            " 27  BUILDING CLASS CATEGORY_21 OFFICE BUILDINGS                          5873 non-null   uint8  \n",
            " 28  BUILDING CLASS CATEGORY_22 STORE BUILDINGS                           5873 non-null   uint8  \n",
            " 29  BUILDING CLASS CATEGORY_23 LOFT BUILDINGS                            5873 non-null   uint8  \n",
            " 30  BUILDING CLASS CATEGORY_26 OTHER HOTELS                              5873 non-null   uint8  \n",
            " 31  BUILDING CLASS CATEGORY_27 FACTORIES                                 5873 non-null   uint8  \n",
            " 32  BUILDING CLASS CATEGORY_28 COMMERCIAL CONDOS                         5873 non-null   uint8  \n",
            " 33  BUILDING CLASS CATEGORY_29 COMMERCIAL GARAGES                        5873 non-null   uint8  \n",
            " 34  BUILDING CLASS CATEGORY_30 WAREHOUSES                                5873 non-null   uint8  \n",
            " 35  BUILDING CLASS CATEGORY_31 COMMERCIAL VACANT LAND                    5873 non-null   uint8  \n",
            " 36  BUILDING CLASS CATEGORY_32 HOSPITAL AND HEALTH FACILITIES            5873 non-null   uint8  \n",
            " 37  BUILDING CLASS CATEGORY_33 EDUCATIONAL FACILITIES                    5873 non-null   uint8  \n",
            " 38  BUILDING CLASS CATEGORY_35 INDOOR PUBLIC AND CULTURAL FACILITIES     5873 non-null   uint8  \n",
            " 39  BUILDING CLASS CATEGORY_36 OUTDOOR RECREATIONAL FACILITIES           5873 non-null   uint8  \n",
            " 40  BUILDING CLASS CATEGORY_37 RELIGIOUS FACILITIES                      5873 non-null   uint8  \n",
            " 41  BUILDING CLASS CATEGORY_38 ASYLUMS AND HOMES                         5873 non-null   uint8  \n",
            " 42  BUILDING CLASS CATEGORY_41 TAX CLASS 4 - OTHER                       5873 non-null   uint8  \n",
            " 43  BUILDING CLASS CATEGORY_43 CONDO OFFICE BUILDINGS                    5873 non-null   uint8  \n",
            " 44  BUILDING CLASS CATEGORY_44 CONDO PARKING                             5873 non-null   uint8  \n",
            " 45  BUILDING CLASS CATEGORY_45 CONDO HOTELS                              5873 non-null   uint8  \n",
            " 46  BUILDING CLASS CATEGORY_46 CONDO STORE BUILDINGS                     5873 non-null   uint8  \n",
            " 47  BUILDING CLASS CATEGORY_47 CONDO NON-BUSINESS STORAGE                5873 non-null   uint8  \n",
            " 48  TAX CLASS AT PRESENT_1                                               5873 non-null   uint8  \n",
            " 49  TAX CLASS AT PRESENT_1A                                              5873 non-null   uint8  \n",
            " 50  TAX CLASS AT PRESENT_1B                                              5873 non-null   uint8  \n",
            " 51  TAX CLASS AT PRESENT_1C                                              5873 non-null   uint8  \n",
            " 52  TAX CLASS AT PRESENT_2                                               5873 non-null   uint8  \n",
            " 53  TAX CLASS AT PRESENT_2A                                              5873 non-null   uint8  \n",
            " 54  TAX CLASS AT PRESENT_2B                                              5873 non-null   uint8  \n",
            " 55  TAX CLASS AT PRESENT_2C                                              5873 non-null   uint8  \n",
            " 56  TAX CLASS AT PRESENT_4                                               5873 non-null   uint8  \n",
            " 57  TAX CLASS AT TIME OF SALE_2                                          5873 non-null   uint8  \n",
            " 58  TAX CLASS AT TIME OF SALE_4                                          5873 non-null   uint8  \n",
            "dtypes: float64(2), int64(6), uint8(51)\n",
            "memory usage: 705.4 KB\n"
          ],
          "name": "stdout"
        }
      ]
    },
    {
      "cell_type": "markdown",
      "metadata": {
        "id": "o7DJB8xo24yq",
        "colab_type": "text"
      },
      "source": [
        "### Standardization"
      ]
    },
    {
      "cell_type": "code",
      "metadata": {
        "id": "7Cj9wA0OWueP",
        "colab_type": "code",
        "colab": {}
      },
      "source": [
        "#Standardize rows into uniform scale\n",
        "\n",
        "X = fdf.drop(['SALE PRICE'],axis=1)\n",
        "y = fdf['SALE PRICE']\n",
        "\n",
        "from sklearn.preprocessing import StandardScaler\n",
        "scaler = StandardScaler()\n",
        "scaler.fit(X)\n",
        "\n",
        "# Scale and center the data\n",
        "fdf_normalized = scaler.transform(X)\n",
        "\n",
        "# Create a pandas DataFrame\n",
        "X = pd.DataFrame(data=fdf_normalized, index=X.index, columns=X.columns)\n",
        "\n",
        "\n",
        "\n"
      ],
      "execution_count": 39,
      "outputs": []
    },
    {
      "cell_type": "markdown",
      "metadata": {
        "id": "QxbB6rjY3FcJ",
        "colab_type": "text"
      },
      "source": [
        "### Split the data into train and test"
      ]
    },
    {
      "cell_type": "code",
      "metadata": {
        "id": "Q9bP4JOWV2LE",
        "colab_type": "code",
        "colab": {}
      },
      "source": [
        "from sklearn.model_selection import train_test_split   #splitting data\n",
        "from pylab import rcParams\n",
        "from sklearn.linear_model import LinearRegression         #linear regression\n",
        "from sklearn.metrics.regression import mean_squared_error #error metrics\n",
        "from sklearn.metrics import mean_absolute_error\n",
        "\n",
        "X_train, X_test, y_train, y_test = train_test_split(fdf_normalized,y)"
      ],
      "execution_count": 40,
      "outputs": []
    },
    {
      "cell_type": "code",
      "metadata": {
        "id": "VoB3fEeEXnyx",
        "colab_type": "code",
        "colab": {}
      },
      "source": [
        "#@title Save \n",
        "df_prop1 = df_prop.copy()"
      ],
      "execution_count": 41,
      "outputs": []
    },
    {
      "cell_type": "code",
      "metadata": {
        "id": "8i0zPL2c9a3t",
        "colab_type": "code",
        "colab": {}
      },
      "source": [
        "#@title Restore\n",
        "df_prop = df_prop1.copy()"
      ],
      "execution_count": 42,
      "outputs": []
    },
    {
      "cell_type": "code",
      "metadata": {
        "id": "AuZg5VFLXwlU",
        "colab_type": "code",
        "colab": {}
      },
      "source": [
        "# Convert to numpy arrays\n",
        "training_features = np.array(X_train)\n",
        "\n",
        "\n",
        "# Sklearn wants the labels as one-dimensional vectors\n",
        "training_targets = np.array(y_train).reshape((-1,))\n"
      ],
      "execution_count": 43,
      "outputs": []
    },
    {
      "cell_type": "markdown",
      "metadata": {
        "id": "u4qzXct51giL",
        "colab_type": "text"
      },
      "source": [
        "## Model Building"
      ]
    },
    {
      "cell_type": "code",
      "metadata": {
        "id": "IhEtxHmgYI1p",
        "colab_type": "code",
        "colab": {}
      },
      "source": [
        "#100 pipelines\n",
        "#5 generations\n",
        "# Create a tpot object with a few parameters\n",
        "tpot = TPOTRegressor(generations=5, population_size= 100, \n",
        "                    max_time_mins = 10,\n",
        "                    n_jobs = -1, verbosity = 2, cv = 5)"
      ],
      "execution_count": 44,
      "outputs": []
    },
    {
      "cell_type": "code",
      "metadata": {
        "id": "lDS1O8ZZYQCC",
        "colab_type": "code",
        "colab": {
          "base_uri": "https://localhost:8080/",
          "height": 334,
          "referenced_widgets": [
            "96e8f319cafa4f09ab77674a815182cd",
            "b8f36a2e079844f7898e30a98d577aa6",
            "d3a3ee9e8505436898c052e71c89d447",
            "4ffe66a1b88b4d8ea0d1c260a566831d",
            "b28721e3456148df90ebd4efffc93a50",
            "b8a865c5c52b4e3399768848adf7e954",
            "7be0b03f8654499fae34c751960b0955",
            "06122feb110a4cb88143e98d32ec4224"
          ]
        },
        "outputId": "389b4151-bfa7-45ce-f9be-110e7840bae4"
      },
      "source": [
        "# Fit the tpot model on the training data\n",
        "tpot.fit(training_features, training_targets)"
      ],
      "execution_count": 45,
      "outputs": [
        {
          "output_type": "display_data",
          "data": {
            "application/vnd.jupyter.widget-view+json": {
              "model_id": "96e8f319cafa4f09ab77674a815182cd",
              "version_minor": 0,
              "version_major": 2
            },
            "text/plain": [
              "HBox(children=(FloatProgress(value=0.0, description='Optimization Progress', style=ProgressStyle(description_w…"
            ]
          },
          "metadata": {
            "tags": []
          }
        },
        {
          "output_type": "stream",
          "text": [
            "\r\n",
            "\r10.38 minutes have elapsed. TPOT will close down.\n",
            "TPOT closed during evaluation in one generation.\n",
            "WARNING: TPOT may not provide a good pipeline if TPOT is stopped/interrupted in a early generation.\n",
            "\r\n",
            "\r\n",
            "TPOT closed prematurely. Will use the current best pipeline.\n",
            "\r\n",
            "Best pipeline: ExtraTreesRegressor(input_matrix, bootstrap=False, max_features=0.8, min_samples_leaf=3, min_samples_split=12, n_estimators=100)\n"
          ],
          "name": "stdout"
        },
        {
          "output_type": "execute_result",
          "data": {
            "text/plain": [
              "TPOTRegressor(config_dict=None, crossover_rate=0.1, cv=5,\n",
              "              disable_update_check=False, early_stop=None, generations=5,\n",
              "              log_file=<ipykernel.iostream.OutStream object at 0x7f6b26597978>,\n",
              "              max_eval_time_mins=5, max_time_mins=10, memory=None,\n",
              "              mutation_rate=0.9, n_jobs=-1, offspring_size=None,\n",
              "              periodic_checkpoint_folder=None, population_size=100,\n",
              "              random_state=None, scoring=None, subsample=1.0, template=None,\n",
              "              use_dask=False, verbosity=2, warm_start=False)"
            ]
          },
          "metadata": {
            "tags": []
          },
          "execution_count": 45
        }
      ]
    },
    {
      "cell_type": "code",
      "metadata": {
        "id": "vKCZJPvQYTSI",
        "colab_type": "code",
        "colab": {
          "base_uri": "https://localhost:8080/",
          "height": 252
        },
        "outputId": "90984e58-8a52-48b4-d955-6b2c08578f57"
      },
      "source": [
        "# Show the final model\n",
        "print(tpot.fitted_pipeline_)"
      ],
      "execution_count": 46,
      "outputs": [
        {
          "output_type": "stream",
          "text": [
            "Pipeline(memory=None,\n",
            "         steps=[('extratreesregressor',\n",
            "                 ExtraTreesRegressor(bootstrap=False, ccp_alpha=0.0,\n",
            "                                     criterion='mse', max_depth=None,\n",
            "                                     max_features=0.8, max_leaf_nodes=None,\n",
            "                                     max_samples=None,\n",
            "                                     min_impurity_decrease=0.0,\n",
            "                                     min_impurity_split=None,\n",
            "                                     min_samples_leaf=3, min_samples_split=12,\n",
            "                                     min_weight_fraction_leaf=0.0,\n",
            "                                     n_estimators=100, n_jobs=None,\n",
            "                                     oob_score=False, random_state=None,\n",
            "                                     verbose=0, warm_start=False))],\n",
            "         verbose=False)\n"
          ],
          "name": "stdout"
        }
      ]
    },
    {
      "cell_type": "code",
      "metadata": {
        "id": "4-pIN6DqbECS",
        "colab_type": "code",
        "colab": {}
      },
      "source": [
        "# Export the pipeline as a python script file\n",
        "tpot.export('tpot_exported_pipeline.py')"
      ],
      "execution_count": 47,
      "outputs": []
    },
    {
      "cell_type": "markdown",
      "metadata": {
        "id": "ampmkXEr1o0b",
        "colab_type": "text"
      },
      "source": [
        "## Evaluating final model"
      ]
    },
    {
      "cell_type": "code",
      "metadata": {
        "id": "2vfpnZfvbkMM",
        "colab_type": "code",
        "colab": {
          "base_uri": "https://localhost:8080/",
          "height": 34
        },
        "outputId": "12b7f30a-0a35-4a56-a8b7-1f7ea59af99b"
      },
      "source": [
        " # Evaluate the final model\n",
        "print(tpot.score(X_test, y_test))"
      ],
      "execution_count": 48,
      "outputs": [
        {
          "output_type": "stream",
          "text": [
            "-1171518603690.3508\n"
          ],
          "name": "stdout"
        }
      ]
    },
    {
      "cell_type": "code",
      "metadata": {
        "id": "ZVSODFa1wVV_",
        "colab_type": "code",
        "colab": {}
      },
      "source": [
        ""
      ],
      "execution_count": 48,
      "outputs": []
    }
  ]
}